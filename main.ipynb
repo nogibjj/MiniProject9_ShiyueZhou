{
  "cells": [
    {
      "cell_type": "code",
      "execution_count": 2,
      "metadata": {
        "id": "bb5DlX1w2MBz"
      },
      "outputs": [],
      "source": [
        "from mylib.lib import (\n",
        "    load_dataset,\n",
        "    grab_mean,\n",
        "    grab_median,\n",
        "    grab_max,\n",
        "    grab_std,\n",
        "    # generate_descriptive_statistics,\n",
        "    create_histogram,\n",
        ")\n",
        "\n",
        "dataset = \"https://raw.githubusercontent.com/fivethirtyeight/data/master/district-urbanization-index-2022/urbanization-index-2022.csv\"\n",
        "\n",
        "\n",
        "df = load_dataset(dataset)\n",
        "assert df.shape[0] == 435"
      ]
    },
    {
      "cell_type": "code",
      "source": [
        "# Data manipulation\n",
        "\n",
        "df.head(5)\n",
        "\n",
        "#filter\n",
        "df_ny=df[df[\"state\"]==\"NY\"]\n",
        "df_ny.head(5)\n",
        "#sorting\n",
        "df_ny=df_ny.sort_values(by='pvi_22', ascending=False)\n",
        "\n",
        "# Reset the index after sorting to make sure the first row is indexed at 0\n",
        "df_ny = df_ny.reset_index(drop=True)\n",
        "\n",
        "print(df_ny.head(1))\n",
        "print(\"\\n\")\n",
        "\n",
        "#testing\n",
        "try:\n",
        "    assert df_ny.loc[0, 'pvi_22'] == df_ny[\"pvi_22\"].max()\n",
        "    print(\"correct test\")\n",
        "except AssertionError:\n",
        "    print(\"false test\")\n"
      ],
      "metadata": {
        "colab": {
          "base_uri": "https://localhost:8080/"
        },
        "id": "KTYkpdbN3xGy",
        "outputId": "7ca69f8b-c697-4bf3-c846-a53cc7612680"
      },
      "execution_count": 25,
      "outputs": [
        {
          "output_type": "stream",
          "name": "stdout",
          "text": [
            "    stcd state  cd    pvi_22  urbanindex  rural  exurban  suburban  urban  \\\n",
            "0  NY-13    NY  13  77.13841    14.69063    0.0      0.0       0.0  100.0   \n",
            "\n",
            "      grouping  \n",
            "0  Dense Urban  \n",
            "\n",
            "\n",
            "correct test\n"
          ]
        }
      ]
    },
    {
      "cell_type": "code",
      "execution_count": 3,
      "metadata": {
        "id": "SMUj67XL2MB2"
      },
      "outputs": [],
      "source": [
        "general_df = load_dataset(dataset)\n",
        "max_test = grab_max(general_df, \"rural\")\n",
        "mean_test = grab_mean(general_df, \"rural\")\n",
        "median_test = grab_median(general_df, \"rural\")\n",
        "std_test = grab_std(general_df, \"rural\")\n",
        "# test\n",
        "describe_test = general_df.describe()\n",
        "assert describe_test.loc[\"max\", \"rural\"] == max_test\n",
        "assert describe_test.loc[\"mean\", \"rural\"] == mean_test\n",
        "assert describe_test.loc[\"std\", \"rural\"] == std_test\n",
        "assert round(median_test) == 18"
      ]
    },
    {
      "cell_type": "code",
      "execution_count": 8,
      "metadata": {
        "colab": {
          "base_uri": "https://localhost:8080/",
          "height": 472
        },
        "id": "JGo_MBhM2MB3",
        "outputId": "7bb42a93-80e4-4d21-ad18-5370eb83a201"
      },
      "outputs": [
        {
          "output_type": "display_data",
          "data": {
            "text/plain": [
              "<Figure size 640x480 with 1 Axes>"
            ],
            "image/png": "[encoded data removed]"
          },
          "metadata": {}
        }
      ],
      "source": [
        "create_histogram(df, \"rural\")"
      ]
    }
  ],
  "metadata": {
    "kernelspec": {
      "display_name": "base",
      "language": "python",
      "name": "python3"
    },
    "language_info": {
      "codemirror_mode": {
        "name": "ipython",
        "version": 3
      },
      "file_extension": ".py",
      "mimetype": "text/x-python",
      "name": "python",
      "nbconvert_exporter": "python",
      "pygments_lexer": "ipython3",
      "version": "3.12.2"
    },
    "colab": {
      "provenance": []
    }
  },
  "nbformat": 4,
  "nbformat_minor": 0
}